{
 "cells": [
  {
   "cell_type": "code",
   "execution_count": 2,
   "metadata": {},
   "outputs": [
    {
     "name": "stdout",
     "output_type": "stream",
     "text": [
      "+-----+---+\n",
      "| Name|Age|\n",
      "+-----+---+\n",
      "|Alice| 25|\n",
      "| Matt| 30|\n",
      "|Tokio| 28|\n",
      "|David| 35|\n",
      "+-----+---+\n",
      "\n"
     ]
    }
   ],
   "source": [
    "from pyspark.sql import SparkSession\n",
    "\n",
    "spark = SparkSession.builder.appName(\"Simple DataFrame Example\").getOrCreate()\n",
    "\n",
    "data = [\n",
    "    (\"Alice\", 25),\n",
    "    (\"Matt\", 30),\n",
    "    (\"Tokio\", 28),\n",
    "    (\"David\", 35)\n",
    "]\n",
    "\n",
    "columns = [\"Name\", \"Age\"]\n",
    "df = spark.createDataFrame(data, schema=columns)\n",
    "\n",
    "df.show()"
   ]
  },
  {
   "cell_type": "code",
   "execution_count": 3,
   "metadata": {},
   "outputs": [
    {
     "name": "stdout",
     "output_type": "stream",
     "text": [
      "+-----+\n",
      "| Name|\n",
      "+-----+\n",
      "|Alice|\n",
      "| Matt|\n",
      "|Tokio|\n",
      "|David|\n",
      "+-----+\n",
      "\n",
      "+-----+---+\n",
      "| Name|Age|\n",
      "+-----+---+\n",
      "|Alice| 25|\n",
      "| Matt| 30|\n",
      "|Tokio| 28|\n",
      "|David| 35|\n",
      "+-----+---+\n",
      "\n",
      "+-----+---+\n",
      "| Name|Age|\n",
      "+-----+---+\n",
      "| Matt| 30|\n",
      "|David| 35|\n",
      "+-----+---+\n",
      "\n"
     ]
    },
    {
     "name": "stderr",
     "output_type": "stream",
     "text": [
      "[Stage 10:>                                                         (0 + 2) / 2]\r"
     ]
    },
    {
     "name": "stdout",
     "output_type": "stream",
     "text": [
      "+---+-----+\n",
      "|Age|count|\n",
      "+---+-----+\n",
      "| 25|    1|\n",
      "| 30|    1|\n",
      "| 28|    1|\n",
      "| 35|    1|\n",
      "+---+-----+\n",
      "\n"
     ]
    },
    {
     "name": "stderr",
     "output_type": "stream",
     "text": [
      "                                                                                \r"
     ]
    }
   ],
   "source": [
    "df.select(\"Name\").show()\n",
    "df.select(\"Name\", \"Age\").show()\n",
    "\n",
    "df.filter(df.Age > 28).show()\n",
    "\n",
    "df.groupBy(\"Age\").count().show()"
   ]
  },
  {
   "cell_type": "code",
   "execution_count": 4,
   "metadata": {},
   "outputs": [
    {
     "name": "stdout",
     "output_type": "stream",
     "text": [
      "+-----+---+-----------+\n",
      "| Name|Age|Age_Plus_10|\n",
      "+-----+---+-----------+\n",
      "|Alice| 25|         35|\n",
      "| Matt| 30|         40|\n",
      "|Tokio| 28|         38|\n",
      "|David| 35|         45|\n",
      "+-----+---+-----------+\n",
      "\n"
     ]
    }
   ],
   "source": [
    "df.withColumn(\"Age_Plus_10\", df.Age + 10).show()"
   ]
  },
  {
   "cell_type": "code",
   "execution_count": 6,
   "metadata": {},
   "outputs": [
    {
     "name": "stdout",
     "output_type": "stream",
     "text": [
      "+-----+----------+-----+\n",
      "| Name|      Date|Sales|\n",
      "+-----+----------+-----+\n",
      "|Alice|2024-09-01|  100|\n",
      "|Alice|2024-09-02|  200|\n",
      "|Alice|2024-09-03|  300|\n",
      "|  Bob|2024-09-01|  150|\n",
      "|  Bob|2024-09-02|  250|\n",
      "|  Bob|2024-09-03|  350|\n",
      "+-----+----------+-----+\n",
      "\n",
      "+-----+----------+-----+-------------+\n",
      "| Name|      Date|Sales|Running_Total|\n",
      "+-----+----------+-----+-------------+\n",
      "|Alice|2024-09-01|  100|          100|\n",
      "|Alice|2024-09-02|  200|          300|\n",
      "|Alice|2024-09-03|  300|          600|\n",
      "|  Bob|2024-09-01|  150|          150|\n",
      "|  Bob|2024-09-02|  250|          400|\n",
      "|  Bob|2024-09-03|  350|          750|\n",
      "+-----+----------+-----+-------------+\n",
      "\n"
     ]
    }
   ],
   "source": [
    "from pyspark.sql import SparkSession\n",
    "from pyspark.sql import functions as F\n",
    "from pyspark.sql.window import Window\n",
    "\n",
    "spark = SparkSession.builder.appName(\"Window Function Example\").getOrCreate()\n",
    "\n",
    "data = [\n",
    "    (\"Alice\", \"2024-09-01\", 100),\n",
    "    (\"Alice\", \"2024-09-02\", 200),\n",
    "    (\"Alice\", \"2024-09-03\", 300),\n",
    "    (\"Bob\", \"2024-09-01\", 150),\n",
    "    (\"Bob\", \"2024-09-02\", 250),\n",
    "    (\"Bob\", \"2024-09-03\", 350),\n",
    "]\n",
    "\n",
    "columns = [\"Name\", \"Date\", \"Sales\"]\n",
    "\n",
    "df = spark.createDataFrame(data, schema=columns)\n",
    "\n",
    "df.show()\n",
    "\n",
    "windowSpec = Window.partitionBy(\"Name\").orderBy(\"Date\").rowsBetween(Window.unboundedPreceding, Window.currentRow)\n",
    "\n",
    "df_running_total = df.withColumn(\"Running_Total\", F.sum(\"Sales\").over(windowSpec))\n",
    "\n",
    "\n",
    "df_running_total.show()"
   ]
  },
  {
   "cell_type": "code",
   "execution_count": 8,
   "metadata": {},
   "outputs": [
    {
     "name": "stdout",
     "output_type": "stream",
     "text": [
      "+-----+----------+-----+----+\n",
      "| Name|      Date|Sales|Rank|\n",
      "+-----+----------+-----+----+\n",
      "|Alice|2024-09-03|  300|   1|\n",
      "|Alice|2024-09-02|  200|   2|\n",
      "|Alice|2024-09-01|  100|   3|\n",
      "|  Bob|2024-09-03|  350|   1|\n",
      "|  Bob|2024-09-02|  250|   2|\n",
      "|  Bob|2024-09-01|  150|   3|\n",
      "+-----+----------+-----+----+\n",
      "\n"
     ]
    }
   ],
   "source": [
    "windowSpecRank = Window.partitionBy(\"Name\").orderBy(F.desc(\"Sales\"))\n",
    "\n",
    "df_rank = df.withColumn(\"Rank\", F.rank().over(windowSpecRank))\n",
    "\n",
    "df_rank.show()\n"
   ]
  }
 ],
 "metadata": {
  "kernelspec": {
   "display_name": "Python 3",
   "language": "python",
   "name": "python3"
  },
  "language_info": {
   "codemirror_mode": {
    "name": "ipython",
    "version": 3
   },
   "file_extension": ".py",
   "mimetype": "text/x-python",
   "name": "python",
   "nbconvert_exporter": "python",
   "pygments_lexer": "ipython3",
   "version": "3.12.1"
  }
 },
 "nbformat": 4,
 "nbformat_minor": 2
}
