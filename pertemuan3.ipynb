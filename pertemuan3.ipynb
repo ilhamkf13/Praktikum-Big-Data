{
 "cells": [
  {
   "cell_type": "code",
   "execution_count": 1,
   "metadata": {},
   "outputs": [
    {
     "name": "stdout",
     "output_type": "stream",
     "text": [
      "defaultdict(<class 'int'>, {'big': 2, 'data': 3, 'small': 1})\n"
     ]
    }
   ],
   "source": [
    "from collections import defaultdict\n",
    "\n",
    "def map_function(text):\n",
    "       for word in text.split():\n",
    "           yield (word, 1)\n",
    "\n",
    "def reduce_function(pairs):\n",
    "    result = defaultdict(int)\n",
    "    for word, count in pairs:\n",
    "        result[word] += count\n",
    "    return result\n",
    "\n",
    "print(reduce_function(map_function(\"hello world hello world\")))"
   ]
  },
  {
   "cell_type": "code",
   "execution_count": 6,
   "metadata": {},
   "outputs": [
    {
     "name": "stdout",
     "output_type": "stream",
     "text": [
      "{'big': 0.3333333333333333, 'data': 0.5, 'small': 0.16666666666666666}\n"
     ]
    }
   ],
   "source": [
    "from collections import defaultdict\n",
    "\n",
    "def map_function_avg(text):\n",
    "    word_count = defaultdict(int)\n",
    "    total_words = 0\n",
    "    for word in text.split():\n",
    "        word_count[word] += 1\n",
    "        total_words += 1\n",
    "    return word_count, total_words\n",
    "\n",
    "def reduce_function_avg(word_count, total_words):\n",
    "    avg_word_count = {}\n",
    "    for word, count in word_count.items():\n",
    "        avg_word_count[word] = count / total_words\n",
    "    return avg_word_count\n",
    "\n",
    "text = \"hello world hello hello hello world\"\n",
    "\n",
    "word_count, total_words = map_function_avg(text)\n",
    "average_count = reduce_function_avg(word_count, total_words)\n",
    "\n",
    "print(average_count)"
   ]
  }
 ],
 "metadata": {
  "kernelspec": {
   "display_name": "Python 3 (ipykernel)",
   "language": "python",
   "name": "python3"
  }
 },
 "nbformat": 4,
 "nbformat_minor": 2
}
