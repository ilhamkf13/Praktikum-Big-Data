{
 "cells": [
  {
   "cell_type": "code",
   "execution_count": 1,
   "metadata": {},
   "outputs": [
    {
     "name": "stderr",
     "output_type": "stream",
     "text": [
      "24/08/22 15:31:37 WARN Utils: Your hostname, codespaces-7bbc81 resolves to a loopback address: 127.0.0.1; using 10.0.0.176 instead (on interface eth0)\n",
      "24/08/22 15:31:37 WARN Utils: Set SPARK_LOCAL_IP if you need to bind to another address\n",
      "Setting default log level to \"WARN\".\n",
      "To adjust logging level use sc.setLogLevel(newLevel). For SparkR, use setLogLevel(newLevel).\n",
      "24/08/22 15:31:38 WARN NativeCodeLoader: Unable to load native-hadoop library for your platform... using builtin-java classes where applicable\n",
      "                                                                                \r"
     ]
    },
    {
     "name": "stdout",
     "output_type": "stream",
     "text": [
      "+-----+----+---------------+------------+------+\n",
      "| Nama|Usia|      Pekerjaan|        Hobi|Gender|\n",
      "+-----+----+---------------+------------+------+\n",
      "|  Ali|  34|Karyawan Swasta|      Futsal|  Pria|\n",
      "| Budi|  23|      Mahasiswa|Bermain Game|  Pria|\n",
      "|Citra|  29|         Dokter|    Berenang|Wanita|\n",
      "| Dina|  45|      Wirausaha|     Membaca|Wanita|\n",
      "+-----+----+---------------+------------+------+\n",
      "\n"
     ]
    }
   ],
   "source": [
    "# Praktik PySpark\n",
    "from pyspark.sql import SparkSession\n",
    "\n",
    "# Memulai Spark Session\n",
    "spark = SparkSession.builder.appName(\"PraktikumBigData\").getOrCreate()\n",
    "\n",
    "# Membuat DataFrame Sederhana\n",
    "data = [(\"Ali\", 34, \"Karyawan Swasta\",\"Futsal\",\"Pria\"), \n",
    "        (\"Budi\", 23, \"Mahasiswa\", \"Bermain Game\",\"Pria\"),\n",
    "        (\"Citra\", 29, \"Dokter\", \"Berenang\", \"Wanita\"), \n",
    "        (\"Dina\", 45, \"Wirausaha\", \"Membaca\", \"Wanita\")]\n",
    "columns = [\"Nama\", \"Usia\",\"Pekerjaan\", \"Hobi\", \"Gender\"]\n",
    "df = spark.createDataFrame(data, columns)\n",
    "\n",
    "#Menampilkan DataFrame\n",
    "df.show()"
   ]
  },
  {
   "cell_type": "code",
   "execution_count": 2,
   "metadata": {},
   "outputs": [
    {
     "name": "stdout",
     "output_type": "stream",
     "text": [
      "+-----+----+---------------+------------+------+\n",
      "| Nama|Usia|      Pekerjaan|        Hobi|Gender|\n",
      "+-----+----+---------------+------------+------+\n",
      "|  Ali|  34|Karyawan Swasta|      Futsal|  Pria|\n",
      "| Budi|  23|      Mahasiswa|Bermain Game|  Pria|\n",
      "|Citra|  29|         Dokter|    Berenang|Wanita|\n",
      "| Dina|  45|      Wirausaha|     Membaca|Wanita|\n",
      "+-----+----+---------------+------------+------+\n",
      "\n",
      "+----+----+---------------+-------+------+\n",
      "|Nama|Usia|      Pekerjaan|   Hobi|Gender|\n",
      "+----+----+---------------+-------+------+\n",
      "| Ali|  34|Karyawan Swasta| Futsal|  Pria|\n",
      "|Dina|  45|      Wirausaha|Membaca|Wanita|\n",
      "+----+----+---------------+-------+------+\n",
      "\n"
     ]
    },
    {
     "name": "stderr",
     "output_type": "stream",
     "text": [
      "24/08/22 15:31:54 WARN GarbageCollectionMetrics: To enable non-built-in garbage collector(s) List(G1 Concurrent GC), users should configure it(them) to spark.eventLog.gcMetrics.youngGenerationGarbageCollectors or spark.eventLog.gcMetrics.oldGenerationGarbageCollectors\n"
     ]
    },
    {
     "name": "stdout",
     "output_type": "stream",
     "text": [
      "+---------+\n",
      "|avg(Usia)|\n",
      "+---------+\n",
      "|    32.75|\n",
      "+---------+\n",
      "\n",
      "+-----+----+---------------+------------+------+\n",
      "| Nama|Usia|      Pekerjaan|        Hobi|Gender|\n",
      "+-----+----+---------------+------------+------+\n",
      "| Dina|  45|      Wirausaha|     Membaca|Wanita|\n",
      "|  Ali|  34|Karyawan Swasta|      Futsal|  Pria|\n",
      "|Citra|  29|         Dokter|    Berenang|Wanita|\n",
      "| Budi|  23|      Mahasiswa|Bermain Game|  Pria|\n",
      "+-----+----+---------------+------------+------+\n",
      "\n"
     ]
    }
   ],
   "source": [
    "# Praktik PySpark\n",
    "from pyspark.sql import SparkSession\n",
    "\n",
    "# Memulai Spark Session\n",
    "spark = SparkSession.builder.appName(\"PraktikumBigData\").getOrCreate()\n",
    "\n",
    "# Membuat DataFrame Sederhana\n",
    "data = [(\"Ali\", 34, \"Karyawan Swasta\",\"Futsal\",\"Pria\"), \n",
    "        (\"Budi\", 23, \"Mahasiswa\", \"Bermain Game\",\"Pria\"),\n",
    "        (\"Citra\", 29, \"Dokter\", \"Berenang\", \"Wanita\"), \n",
    "        (\"Dina\", 45, \"Wirausaha\", \"Membaca\", \"Wanita\")]\n",
    "columns = [\"Nama\", \"Usia\",\"Pekerjaan\", \"Hobi\", \"Gender\"]\n",
    "df = spark.createDataFrame(data, columns)\n",
    "\n",
    "# Menampilkan DataFrame\n",
    "df.show()\n",
    "\n",
    "# Filtering Data\n",
    "df_filtered = df.filter(df['Usia'] > 30)\n",
    "df_filtered.show()\n",
    "\n",
    "# Menghitung rata-rata usia\n",
    "from pyspark.sql.functions import avg\n",
    "df.groupBy().agg(avg(\"Usia\")).show()\n",
    "\n",
    "# Mengurutkan data berdasarkan usia\n",
    "df_sorted = df.orderBy(\"Usia\", ascending = False)\n",
    "df_sorted.show()"
   ]
  },
  {
   "cell_type": "code",
   "execution_count": 3,
   "metadata": {},
   "outputs": [
    {
     "data": {
      "text/html": [
       "<div>\n",
       "<style scoped>\n",
       "    .dataframe tbody tr th:only-of-type {\n",
       "        vertical-align: middle;\n",
       "    }\n",
       "\n",
       "    .dataframe tbody tr th {\n",
       "        vertical-align: top;\n",
       "    }\n",
       "\n",
       "    .dataframe thead th {\n",
       "        text-align: right;\n",
       "    }\n",
       "</style>\n",
       "<table border=\"1\" class=\"dataframe\">\n",
       "  <thead>\n",
       "    <tr style=\"text-align: right;\">\n",
       "      <th></th>\n",
       "      <th>Nama</th>\n",
       "      <th>Usia</th>\n",
       "    </tr>\n",
       "  </thead>\n",
       "  <tbody>\n",
       "    <tr>\n",
       "      <th>0</th>\n",
       "      <td>Ali</td>\n",
       "      <td>34</td>\n",
       "    </tr>\n",
       "    <tr>\n",
       "      <th>1</th>\n",
       "      <td>Budi</td>\n",
       "      <td>23</td>\n",
       "    </tr>\n",
       "    <tr>\n",
       "      <th>2</th>\n",
       "      <td>Citra</td>\n",
       "      <td>29</td>\n",
       "    </tr>\n",
       "    <tr>\n",
       "      <th>3</th>\n",
       "      <td>Dina</td>\n",
       "      <td>45</td>\n",
       "    </tr>\n",
       "  </tbody>\n",
       "</table>\n",
       "</div>"
      ],
      "text/plain": [
       "    Nama  Usia\n",
       "0    Ali    34\n",
       "1   Budi    23\n",
       "2  Citra    29\n",
       "3   Dina    45"
      ]
     },
     "execution_count": 3,
     "metadata": {},
     "output_type": "execute_result"
    }
   ],
   "source": [
    "# Praktik dengan Pandas\n",
    "import pandas as pd\n",
    "\n",
    "# Membuat DataFrame Pandas\n",
    "data_pandas = {\"Nama\" : [\"Ali\", \"Budi\", \"Citra\", \"Dina\"], \"Usia\" : [34, 23, 29, 45]}\n",
    "df_pandas = pd.DataFrame(data_pandas)\n",
    "\n",
    "# Menampilkan Dataframe Pandas\n",
    "df_pandas"
   ]
  },
  {
   "cell_type": "code",
   "execution_count": 4,
   "metadata": {},
   "outputs": [
    {
     "name": "stdout",
     "output_type": "stream",
     "text": [
      "DataFrame Awal :\n",
      "    Nama  Usia\n",
      "0    Ali    34\n",
      "1   Budi    23\n",
      "2  Citra    29\n",
      "3   Dina    45\n",
      "\n",
      "DataFrame setelah menambahkan kolom :\n",
      "    Nama  Usia        Pekerjaan\n",
      "0    Ali    34  Karyawan Swasta\n",
      "1   Budi    23        Mahasiswa\n",
      "2  Citra    29           Dokter\n",
      "3   Dina    45        Wirausaha\n",
      "\n",
      "DataFrame Setelah Filtering :\n",
      "   Nama  Usia        Pekerjaan\n",
      "0   Ali    34  Karyawan Swasta\n",
      "3  Dina    45        Wirausaha\n"
     ]
    }
   ],
   "source": [
    "# Tugas 3\n",
    "import pandas as pd\n",
    "\n",
    "# Membuat DataFrame Pandas\n",
    "data_pandas = {\"Nama\" : [\"Ali\", \"Budi\", \"Citra\", \"Dina\"], \"Usia\" : [34, 23, 29, 45]}\n",
    "df_pandas = pd.DataFrame(data_pandas)\n",
    "\n",
    "# Menampilkan DataFrame Pandas\n",
    "print(\"DataFrame Awal :\")\n",
    "print(df_pandas)\n",
    "\n",
    "# Menambahkan Kolom Baru\n",
    "df_pandas[\"Pekerjaan\"] = [\"Karyawan Swasta\", \"Mahasiswa\", \"Dokter\", \"Wirausaha\"]\n",
    "\n",
    "# Menampilkan DataFrame setelah menambahkan kolom baru\n",
    "print(\"\\nDataFrame setelah menambahkan kolom :\")\n",
    "print(df_pandas)\n",
    "\n",
    "# Filtering Data\n",
    "df_filtered = df_pandas[df_pandas[\"Usia\"] > 30]\n",
    "\n",
    "# Menampilkan DataFrame setelah filtering\n",
    "print(\"\\nDataFrame Setelah Filtering :\")\n",
    "print(df_filtered)\n",
    "\n"
   ]
  },
  {
   "cell_type": "code",
   "execution_count": 5,
   "metadata": {},
   "outputs": [
    {
     "name": "stdout",
     "output_type": "stream",
     "text": [
      "    Nama  Usia        Pekerjaan\n",
      "0    Ali    34  Karyawan Swasta\n",
      "1   Budi    23        Mahasiswa\n",
      "2  Citra    29           Dokter\n",
      "3   Dina    45        Wirausaha\n",
      "            Usia\n",
      "count   4.000000\n",
      "mean   32.750000\n",
      "std     9.322911\n",
      "min    23.000000\n",
      "25%    27.500000\n",
      "50%    31.500000\n",
      "75%    36.750000\n",
      "max    45.000000\n"
     ]
    },
    {
     "data": {
      "image/png": "[encoded data removed]",
      "text/plain": [
       "<Figure size 640x480 with 1 Axes>"
      ]
     },
     "metadata": {},
     "output_type": "display_data"
    }
   ],
   "source": [
    "# Praktik Pandas Lanjutan\n",
    "import pandas as pd\n",
    "\n",
    "# Membuat DataFrame Pandas\n",
    "data_pandas = {\"Nama\" : [\"Ali\", \"Budi\", \"Citra\", \"Dina\"], \"Usia\" : [34, 23, 29, 45]}\n",
    "df_pandas = pd.DataFrame(data_pandas)\n",
    "\n",
    "# Membuat DataFrame Kedua\n",
    "data_pandas2 = {\"Nama\" : [\"Ali\", \"Budi\", \"Citra\", \"Dina\"], \n",
    "                \"Pekerjaan\" : [\"Karyawan Swasta\", \"Mahasiswa\", \"Dokter\", \"Wirausaha\"]}\n",
    "df_pandas2 = pd.DataFrame(data_pandas2)\n",
    "\n",
    "# Join antara dua DataFrame\n",
    "df_joined = pd.merge(df_pandas, df_pandas2, on=\"Nama\")\n",
    "print(df_joined)\n",
    "\n",
    "# Menghitung statistik deskriptif\n",
    "print(df_pandas.describe())\n",
    "\n",
    "# Plotting Data\n",
    "import matplotlib.pyplot as plt\n",
    "df_pandas['Usia'].plot(kind='bar')\n",
    "plt.show()"
   ]
  },
  {
   "cell_type": "code",
   "execution_count": 6,
   "metadata": {},
   "outputs": [
    {
     "name": "stdout",
     "output_type": "stream",
     "text": [
      "    Nama  Usia        Pekerjaan\n",
      "0    Ali    34  Karyawan Swasta\n",
      "1   Budi    23        Mahasiswa\n",
      "2  Citra    29           Dokter\n",
      "3   Dina    45        Wirausaha\n",
      "            Usia\n",
      "count   4.000000\n",
      "mean   32.750000\n",
      "std     9.322911\n",
      "min    23.000000\n",
      "25%    27.500000\n",
      "50%    31.500000\n",
      "75%    36.750000\n",
      "max    45.000000\n"
     ]
    },
    {
     "data": {
      "image/png": "[encoded data removed]",
      "text/plain": [
       "<Figure size 640x480 with 1 Axes>"
      ]
     },
     "metadata": {},
     "output_type": "display_data"
    },
    {
     "data": {
      "image/png": "[encoded data removed]",
      "text/plain": [
       "<Figure size 640x480 with 1 Axes>"
      ]
     },
     "metadata": {},
     "output_type": "display_data"
    },
    {
     "data": {
      "image/png": "[encoded data removed]",
      "text/plain": [
       "<Figure size 640x480 with 1 Axes>"
      ]
     },
     "metadata": {},
     "output_type": "display_data"
    },
    {
     "data": {
      "image/png": "[encoded data removed]",
      "text/plain": [
       "<Figure size 640x480 with 1 Axes>"
      ]
     },
     "metadata": {},
     "output_type": "display_data"
    }
   ],
   "source": [
    "# Praktik Pandas Lanjutan\n",
    "import pandas as pd\n",
    "\n",
    "# Membuat DataFrame Pandas\n",
    "data_pandas = {\"Nama\" : [\"Ali\", \"Budi\", \"Citra\", \"Dina\"], \"Usia\" : [34, 23, 29, 45]}\n",
    "df_pandas = pd.DataFrame(data_pandas)\n",
    "\n",
    "# Membuat DataFrame Kedua\n",
    "data_pandas2 = {\"Nama\" : [\"Ali\", \"Budi\", \"Citra\", \"Dina\"], \n",
    "                \"Pekerjaan\" : [\"Karyawan Swasta\", \"Mahasiswa\", \"Dokter\", \"Wirausaha\"]}\n",
    "df_pandas2 = pd.DataFrame(data_pandas2)\n",
    "\n",
    "# Join antara dua DataFrame\n",
    "df_joined = pd.merge(df_pandas, df_pandas2, on=\"Nama\")\n",
    "print(df_joined)\n",
    "\n",
    "# Menghitung statistik deskriptif\n",
    "print(df_pandas.describe())\n",
    "\n",
    "# Plotting Data\n",
    "import matplotlib.pyplot as plt\n",
    "df_pandas['Usia'].plot(kind='bar')\n",
    "plt.show()\n",
    "\n",
    "# Plotting Usia dalam bentuk bar chart\n",
    "df_pandas['Usia'].plot(kind='bar', title='Usia Individu', xlabel='Individu', ylabel='Usia', color='skyblue')\n",
    "plt.show()\n",
    "\n",
    "# Plotting histogram untuk kolom Usia\n",
    "df_pandas['Usia'].plot(kind='hist', bins=4, edgecolor='black', title='Distribusi Usia', color='lightgreen')\n",
    "plt.xlabel('Usia')\n",
    "plt.ylabel('Frekuensi')\n",
    "plt.show()\n",
    "\n",
    "# Plotting box plot untuk kolom Usia\n",
    "df_pandas['Usia'].plot(kind='box', title='Box Plot Usia', color='orange')\n",
    "plt.ylabel('Usia')\n",
    "plt.show()"
   ]
  },
  {
   "cell_type": "code",
   "execution_count": 31,
   "metadata": {},
   "outputs": [
    {
     "name": "stdout",
     "output_type": "stream",
     "text": [
      "+-----+----+\n",
      "| Nama|Usia|\n",
      "+-----+----+\n",
      "|  Ali|  34|\n",
      "| Budi|  23|\n",
      "|Citra|  29|\n",
      "| Dina|  45|\n",
      "+-----+----+\n",
      "\n"
     ]
    },
    {
     "data": {
      "text/plain": [
       "(    Nama  Usia        Pekerjaan          Hobi  Gender\n",
       " 0    Ali    34  Karyawan Swasta        Futsal    Pria\n",
       " 1   Budi    23        Mahasiswa  Bermain Game    Pria\n",
       " 2  Citra    29           Dokter      Berenang  Wanita\n",
       " 3   Dina    45        Wirausaha       Membaca  Wanita,\n",
       " None)"
      ]
     },
     "execution_count": 31,
     "metadata": {},
     "output_type": "execute_result"
    }
   ],
   "source": [
    "# Mengonversi DataFrame dari PySpark ke Pandas\n",
    "df_pandas_from_spark = df.toPandas()\n",
    "\n",
    "# Mengonversi DataFrame dari Pandas ke PySpark\n",
    "df_spark_from_pandas = spark.createDataFrame(df_pandas)\n",
    "\n",
    "# Menampilkan DataFrame hasil konversi\n",
    "df_pandas_from_spark, df_spark_from_pandas.show()"
   ]
  },
  {
   "cell_type": "code",
   "execution_count": 34,
   "metadata": {},
   "outputs": [
    {
     "name": "stdout",
     "output_type": "stream",
     "text": [
      "+-----+----+\n",
      "| Nama|Usia|\n",
      "+-----+----+\n",
      "|  Ali|  34|\n",
      "| Budi|  23|\n",
      "|Citra|  29|\n",
      "| Dina|  45|\n",
      "+-----+----+\n",
      "\n",
      "Rata-rata Usia (Pandas): 32.75\n",
      "Rata-rata Usia (PySpark): 32.75\n",
      "DataFrame Pandas dari PySpark:\n",
      "    Nama  Usia\n",
      "0    Ali    34\n",
      "1   Budi    23\n",
      "2  Citra    29\n",
      "3   Dina    45\n",
      "DataFrame PySpark dari Pandas:\n",
      "+-----+----+\n",
      "| Nama|Usia|\n",
      "+-----+----+\n",
      "|  Ali|  34|\n",
      "| Budi|  23|\n",
      "|Citra|  29|\n",
      "| Dina|  45|\n",
      "+-----+----+\n",
      "\n"
     ]
    }
   ],
   "source": [
    "# Tugas 5\n",
    "# Mengonversi DataFrame dari PySpark ke Pandas\n",
    "df_pandas_from_spark = df.toPandas()\n",
    "\n",
    "# Mengonversi DataFrame dari Pandas ke PySpark\n",
    "df_spark_from_pandas = spark.createDataFrame(df_pandas)\n",
    "\n",
    "# Menampilkan DataFrame hasil konversi\n",
    "df_pandas_from_spark, df_spark_from_pandas.show()\n",
    "\n",
    "import pandas as pd\n",
    "from pyspark.sql import SparkSession\n",
    "from pyspark.sql.functions import avg\n",
    "\n",
    "# Membuat sesi Spark\n",
    "spark = SparkSession.builder.appName(\"example\").getOrCreate()\n",
    "\n",
    "# DataFrame Pandas\n",
    "data_pandas = {\"Nama\": [\"Ali\", \"Budi\", \"Citra\", \"Dina\"], \"Usia\": [34, 23, 29, 45]}\n",
    "df_pandas = pd.DataFrame(data_pandas)\n",
    "\n",
    "# DataFrame PySpark\n",
    "data_spark = [(\"Ali\", 34), (\"Budi\", 23), (\"Citra\", 29), (\"Dina\", 45)]\n",
    "df_spark = spark.createDataFrame(data_spark, [\"Nama\", \"Usia\"])\n",
    "\n",
    "# Mengonversi DataFrame PySpark ke Pandas\n",
    "df_pandas_from_spark = df_spark.toPandas()\n",
    "\n",
    "# Mengonversi DataFrame Pandas ke PySpark\n",
    "df_spark_from_pandas = spark.createDataFrame(df_pandas)\n",
    "\n",
    "# Menggabungkan DataFrame Pandas\n",
    "df_combined = pd.concat([df_pandas, df_pandas_from_spark], ignore_index=True)\n",
    "\n",
    "# Mengonversi DataFrame Pandas yang digabungkan ke PySpark\n",
    "df_combined_spark = spark.createDataFrame(df_combined)\n",
    "\n",
    "# Menghitung rata-rata usia di Pandas\n",
    "average_age = df_combined['Usia'].mean()\n",
    "print(f\"Rata-rata Usia (Pandas): {average_age}\")\n",
    "\n",
    "# Menghitung rata-rata usia di PySpark\n",
    "average_age_spark = df_combined_spark.select(avg(\"Usia\")).collect()[0][0]\n",
    "print(f\"Rata-rata Usia (PySpark): {average_age_spark}\")\n",
    "\n",
    "# Menampilkan DataFrame hasil konversi\n",
    "print(\"DataFrame Pandas dari PySpark:\")\n",
    "print(df_pandas_from_spark)\n",
    "\n",
    "print(\"DataFrame PySpark dari Pandas:\")\n",
    "df_spark_from_pandas.show()\n"
   ]
  },
  {
   "cell_type": "code",
   "execution_count": 36,
   "metadata": {},
   "outputs": [
    {
     "name": "stdout",
     "output_type": "stream",
     "text": [
      "+-----+----+\n",
      "| Nama|Usia|\n",
      "+-----+----+\n",
      "|  Ali|  34|\n",
      "| Budi|  23|\n",
      "|Citra|  29|\n",
      "| Dina|  45|\n",
      "+-----+----+\n",
      "\n",
      "DataFrame Gabungan dari PySpark dan Pandas:\n",
      "+-----+----+\n",
      "| Nama|Usia|\n",
      "+-----+----+\n",
      "|  Ali|  34|\n",
      "| Budi|  23|\n",
      "|Citra|  29|\n",
      "| Dina|  45|\n",
      "|Fahri|  31|\n",
      "| Gita|  26|\n",
      "| Hani|  38|\n",
      "+-----+----+\n",
      "\n",
      "Nilai Maksimum Usia: 45\n"
     ]
    }
   ],
   "source": [
    "# Tugas 6\n",
    "\n",
    "# Mengonversi DataFrame dari PySpark ke Pandas\n",
    "df_pandas_from_spark = df.toPandas()\n",
    "\n",
    "# Mengonversi DataFrame dari Pandas ke PySpark\n",
    "df_spark_from_pandas = spark.createDataFrame(df_pandas)\n",
    "\n",
    "# Menampilkan DataFrame hasil konversi\n",
    "df_pandas_from_spark, df_spark_from_pandas.show()\n",
    "\n",
    "import pandas as pd\n",
    "from pyspark.sql import SparkSession\n",
    "from pyspark.sql.functions import col, max\n",
    "\n",
    "# Membuat sesi Spark\n",
    "spark = SparkSession.builder.appName(\"example\").getOrCreate()\n",
    "\n",
    "# DataFrame PySpark\n",
    "data_spark = [(\"Ali\", 34), (\"Budi\", 23), (\"Citra\", 29), (\"Dina\", 45)]\n",
    "df_spark = spark.createDataFrame(data_spark, [\"Nama\", \"Usia\"])\n",
    "\n",
    "# Mengonversi DataFrame PySpark ke Pandas\n",
    "df_pandas_from_spark = df_spark.toPandas()\n",
    "\n",
    "# DataFrame Pandas\n",
    "data_pandas = {\"Nama\": [\"Fahri\", \"Gita\", \"Hani\"], \"Usia\": [31, 26, 38]}\n",
    "df_pandas = pd.DataFrame(data_pandas)\n",
    "\n",
    "# Mengonversi DataFrame Pandas ke PySpark\n",
    "df_spark_from_pandas = spark.createDataFrame(df_pandas)\n",
    "\n",
    "# Menggabungkan DataFrame PySpark dan Pandas\n",
    "# Pertama, konversi DataFrame PySpark ke Pandas untuk penggabungan\n",
    "df_spark_pandas_combined = pd.concat([df_pandas_from_spark, df_pandas], ignore_index=True)\n",
    "\n",
    "# Kemudian, konversi kembali DataFrame Pandas yang digabungkan ke PySpark\n",
    "df_combined_spark = spark.createDataFrame(df_spark_pandas_combined)\n",
    "\n",
    "# Menampilkan DataFrame hasil gabungan\n",
    "print(\"DataFrame Gabungan dari PySpark dan Pandas:\")\n",
    "df_combined_spark.show()\n",
    "\n",
    "# Menghitung nilai maksimum usia di DataFrame PySpark\n",
    "max_age = df_combined_spark.select(max(col(\"Usia\"))).collect()[0][0]\n",
    "print(f\"Nilai Maksimum Usia: {max_age}\")\n"
   ]
  }
 ],
 "metadata": {
  "kernelspec": {
   "display_name": "Python 3 (ipykernel)",
   "language": "python",
   "name": "python3"
  },
  "language_info": {
   "codemirror_mode": {
    "name": "ipython",
    "version": 3
   },
   "file_extension": ".py",
   "mimetype": "text/x-python",
   "name": "python",
   "nbconvert_exporter": "python",
   "pygments_lexer": "ipython3",
   "version": "3.12.1"
  }
 },
 "nbformat": 4,
 "nbformat_minor": 2
}
