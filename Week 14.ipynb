{
 "cells": [
  {
   "cell_type": "markdown",
   "metadata": {},
   "source": [
    "Linear Regression with Spark MLlib"
   ]
  },
  {
   "cell_type": "code",
   "execution_count": 13,
   "metadata": {},
   "outputs": [
    {
     "name": "stderr",
     "output_type": "stream",
     "text": [
      "24/12/04 09:52:56 WARN Instrumentation: [f9c9e5be] regParam is zero, which might cause numerical instability and overfitting.\n"
     ]
    },
    {
     "name": "stdout",
     "output_type": "stream",
     "text": [
      "Coefficients: [0.9999999999999992]\n",
      "Intercept: 15.000000000000009\n"
     ]
    }
   ],
   "source": [
    "from pyspark.sql import SparkSession\n",
    "from pyspark.ml.regression import LinearRegression\n",
    "from pyspark.ml.feature import VectorAssembler\n",
    "\n",
    "# Initialize Spark Session\n",
    "spark = SparkSession.builder.appName(\"MLlib Example\").getOrCreate()\n",
    "\n",
    "# Load sample data\n",
    "data = [(1, 5.0, 20.0), (2, 10.0, 25.0), (3, 15.0, 30.0), (4, 20.0, 35.0)]\n",
    "columns = ['ID', 'Feature', 'Target']\n",
    "df = spark.createDataFrame(data, columns)\n",
    "\n",
    "# Prepare data for Modeling\n",
    "assembler = VectorAssembler(inputCols=['Feature'], outputCol='features')\n",
    "df_transformed = assembler.transform(df)\n",
    "\n",
    "# Train a Linear Regression model\n",
    "lr = LinearRegression(featuresCol='features', labelCol='Target')\n",
    "model = lr.fit(df_transformed)\n",
    "\n",
    "# Print model coefficients\n",
    "print(f\"Coefficients: {model.coefficients}\")\n",
    "print(f\"Intercept: {model.intercept}\")\n",
    "\n"
   ]
  },
  {
   "cell_type": "markdown",
   "metadata": {},
   "source": [
    "Logistic Regression"
   ]
  },
  {
   "cell_type": "code",
   "execution_count": 14,
   "metadata": {},
   "outputs": [
    {
     "name": "stdout",
     "output_type": "stream",
     "text": [
      "Coefficients: [-12.262057891021882,4.087352253767593]\n",
      "Intercept: 11.568912688492174\n"
     ]
    }
   ],
   "source": [
    "# Practice: Logistic Regression\n",
    "from pyspark.ml.classification import LogisticRegression\n",
    "\n",
    "# Example dataset\n",
    "data = [(1, 2.0, 3.0, 0), (2, 1.0, 5.0, 1), (3, 2.5, 4.5, 1), (4, 3.0, 6.0, 0)]\n",
    "columns = ['ID', 'Feature1', 'Feature2', 'Label']\n",
    "df = spark.createDataFrame(data, columns)\n",
    "\n",
    "# Use VectorAssembler to change features columns to a vector\n",
    "assembler = VectorAssembler(inputCols=['Feature1', 'Feature2'], outputCol='Features')\n",
    "\n",
    "# Transform the data\n",
    "df = assembler.transform(df)\n",
    "\n",
    "# Train logistic regression model\n",
    "lr = LogisticRegression(featuresCol='Features', labelCol='Label')\n",
    "model = lr.fit(df)\n",
    "\n",
    "# Display coefficients and summary\n",
    "print(f'Coefficients: {model.coefficients}')\n",
    "print(f'Intercept: {model.intercept}')"
   ]
  },
  {
   "cell_type": "markdown",
   "metadata": {},
   "source": [
    "KMeans Clustering\n"
   ]
  },
  {
   "cell_type": "code",
   "execution_count": 15,
   "metadata": {},
   "outputs": [
    {
     "name": "stdout",
     "output_type": "stream",
     "text": [
      "Cluster Centers: [array([12.5, 12.5]), array([3., 3.])]\n"
     ]
    }
   ],
   "source": [
    "# Practice: KMeans Clustering\n",
    "from pyspark.ml.clustering import KMeans\n",
    "from pyspark.ml.linalg import Vectors\n",
    "# Example dataset\n",
    "#data = [(1, [1.0, 1.0]), (2, [5.0, 5.0]), (3, [10.0, 10.0]), (4, [15.0, 15.0])]\n",
    "# columns = ['ID', 'Features']\n",
    "# df = spark.createDataFrame(data, columns)\n",
    "\n",
    "# Example dataset\n",
    "data = [(1, Vectors.dense([1.0, 1.0])), (2, Vectors.dense([5.0, 5.0])), (3, Vectors.dense([10.0, 10.0])), (4, Vectors.dense([15.0, 15.0]))]\n",
    "columns = ['ID', 'Features']\n",
    "df = spark.createDataFrame(data, columns)\n",
    "\n",
    "# Train KMeans clustering model\n",
    "kmeans = KMeans(featuresCol='Features', k=2)\n",
    "model = kmeans.fit(df)\n",
    "\n",
    "# Show cluster centers\n",
    "centers = model.clusterCenters()\n",
    "print(f'Cluster Centers: {centers}')\n"
   ]
  },
  {
   "cell_type": "markdown",
   "metadata": {},
   "source": [
    "Home Work"
   ]
  },
  {
   "cell_type": "markdown",
   "metadata": {},
   "source": [
    "Load Dataset into Spark\n"
   ]
  },
  {
   "cell_type": "code",
   "execution_count": 16,
   "metadata": {},
   "outputs": [
    {
     "name": "stderr",
     "output_type": "stream",
     "text": [
      "24/12/04 09:53:17 WARN SparkSession: Using an existing Spark session; only runtime SQL configurations will take effect.\n"
     ]
    },
    {
     "name": "stdout",
     "output_type": "stream",
     "text": [
      "+----------+------+------+------+------+-------+-------+\n",
      "|      Date|  Open|  High|   Low| Close| Volume|OpenInt|\n",
      "+----------+------+------+------+------+-------+-------+\n",
      "|2005-02-25|14.651|14.769| 14.61|14.769| 568538|      0|\n",
      "|2005-02-28|14.937|15.241|14.803|15.241|1238865|      0|\n",
      "|2005-03-01|15.215|15.289|14.879| 15.17| 906195|      0|\n",
      "|2005-03-02|15.088|15.088| 14.75|14.944| 744314|      0|\n",
      "|2005-03-03|15.005|15.197|14.971| 15.14| 489677|      0|\n",
      "+----------+------+------+------+------+-------+-------+\n",
      "only showing top 5 rows\n",
      "\n"
     ]
    }
   ],
   "source": [
    "from pyspark.sql import SparkSession\n",
    "from pyspark.sql.types import StructType, StructField, StringType, FloatType\n",
    "\n",
    "# Inisialisasi Spark Session\n",
    "spark = SparkSession.builder.appName(\"Stock_Classification\").getOrCreate()\n",
    "\n",
    "# Muat file TXT (ganti path sesuai lokasi file)\n",
    "data = spark.read.option(\"delimiter\", \",\").csv(\"/workspaces/Praktikum-Big-Data/agu-us.txt\", header=True, inferSchema=True)\n",
    "\n",
    "# Periksa data yang dimuat\n",
    "data.show(5)\n"
   ]
  },
  {
   "cell_type": "markdown",
   "metadata": {},
   "source": [
    "Transformasi Data dan Vektorisasi Fitur"
   ]
  },
  {
   "cell_type": "code",
   "execution_count": 18,
   "metadata": {},
   "outputs": [
    {
     "name": "stdout",
     "output_type": "stream",
     "text": [
      "+--------------------+-----+\n",
      "|            features|Label|\n",
      "+--------------------+-----+\n",
      "|[14.651,14.769,14...|    1|\n",
      "|[14.937,15.241,14...|    1|\n",
      "|[15.215,15.289,14...|    1|\n",
      "|[15.088,15.088,14...|    1|\n",
      "|[15.005,15.197,14...|    1|\n",
      "+--------------------+-----+\n",
      "only showing top 5 rows\n",
      "\n"
     ]
    }
   ],
   "source": [
    "from pyspark.ml.feature import VectorAssembler\n",
    "\n",
    "from pyspark.sql.functions import lit\n",
    "\n",
    "# Add a dummy Label column for demonstration\n",
    "data = data.withColumn(\"Label\", lit(1))\n",
    "\n",
    "# Definisikan fitur yang akan digunakan dalam model\n",
    "feature_columns = [\"Open\", \"High\", \"Low\", \"Volume\"]\n",
    "assembler = VectorAssembler(inputCols=feature_columns, outputCol=\"features\")\n",
    "\n",
    "# Transformasikan data ke dalam format fitur vektor\n",
    "assembled_data = assembler.transform(data).select(\"features\", \"Label\")\n",
    "\n",
    "# Periksa hasil transformasi\n",
    "assembled_data.show(5)\n"
   ]
  },
  {
   "cell_type": "markdown",
   "metadata": {},
   "source": [
    "Bagi Data ke Dalam Set Pelatihan dan Pengujian"
   ]
  },
  {
   "cell_type": "code",
   "execution_count": 19,
   "metadata": {},
   "outputs": [],
   "source": [
    "# Bagi data menjadi 70% pelatihan dan 30% pengujian\n",
    "train_data, test_data = assembled_data.randomSplit([0.7, 0.3], seed=42)"
   ]
  },
  {
   "cell_type": "markdown",
   "metadata": {},
   "source": [
    "Bangun Model Klasifikasi Menggunakan Logistic Regression"
   ]
  },
  {
   "cell_type": "code",
   "execution_count": 20,
   "metadata": {},
   "outputs": [
    {
     "name": "stderr",
     "output_type": "stream",
     "text": [
      "24/12/04 09:53:33 WARN Instrumentation: [b2f68789] All labels are the same value and fitIntercept=true, so the coefficients will be zeros. Training is not needed.\n"
     ]
    },
    {
     "name": "stdout",
     "output_type": "stream",
     "text": [
      "+-----+----------+\n",
      "|Label|prediction|\n",
      "+-----+----------+\n",
      "|    1|       1.0|\n",
      "|    1|       1.0|\n",
      "|    1|       1.0|\n",
      "|    1|       1.0|\n",
      "|    1|       1.0|\n",
      "+-----+----------+\n",
      "only showing top 5 rows\n",
      "\n"
     ]
    }
   ],
   "source": [
    "from pyspark.ml.classification import LogisticRegression\n",
    "\n",
    "# Inisialisasi model Logistic Regression\n",
    "lr = LogisticRegression(labelCol=\"Label\", featuresCol=\"features\")\n",
    "\n",
    "# Latih model dengan data pelatihan\n",
    "lr_model = lr.fit(train_data)\n",
    "\n",
    "# Lakukan prediksi pada data pengujian\n",
    "predictions = lr_model.transform(test_data)\n",
    "\n",
    "# Tampilkan beberapa hasil prediksi\n",
    "predictions.select(\"Label\", \"prediction\").show(5)\n"
   ]
  },
  {
   "cell_type": "markdown",
   "metadata": {},
   "source": [
    "Evaluasi Kinerja Model"
   ]
  },
  {
   "cell_type": "code",
   "execution_count": 21,
   "metadata": {},
   "outputs": [
    {
     "name": "stdout",
     "output_type": "stream",
     "text": [
      "Test AUC: 1.0\n"
     ]
    }
   ],
   "source": [
    "from pyspark.ml.evaluation import BinaryClassificationEvaluator\n",
    "\n",
    "# Inisialisasi evaluator dengan metrik AUC (Area Under ROC)\n",
    "evaluator = BinaryClassificationEvaluator(labelCol=\"Label\", metricName=\"areaUnderROC\")\n",
    "\n",
    "# Hitung dan tampilkan nilai AUC\n",
    "auc = evaluator.evaluate(predictions)\n",
    "print(f\"Test AUC: {auc}\")\n"
   ]
  },
  {
   "cell_type": "markdown",
   "metadata": {},
   "source": [
    "Penyetelan Hiperparameter Menggunakan Validasi Silang"
   ]
  },
  {
   "cell_type": "code",
   "execution_count": null,
   "metadata": {},
   "outputs": [
    {
     "name": "stderr",
     "output_type": "stream",
     "text": [
      "24/12/04 09:54:22 WARN Instrumentation: [d3d81d59] All labels are the same value and fitIntercept=true, so the coefficients will be zeros. Training is not needed.\n",
      "24/12/04 09:54:23 WARN Instrumentation: [4a4492a9] All labels are the same value and fitIntercept=true, so the coefficients will be zeros. Training is not needed.\n",
      "24/12/04 09:54:23 WARN Instrumentation: [b9a8368f] All labels are the same value and fitIntercept=true, so the coefficients will be zeros. Training is not needed.\n",
      "24/12/04 09:54:24 WARN Instrumentation: [6146e3e6] All labels are the same value and fitIntercept=true, so the coefficients will be zeros. Training is not needed.\n",
      "24/12/04 09:54:24 WARN Instrumentation: [458ace70] All labels are the same value and fitIntercept=true, so the coefficients will be zeros. Training is not needed.\n",
      "24/12/04 09:54:24 WARN Instrumentation: [1f658a13] All labels are the same value and fitIntercept=true, so the coefficients will be zeros. Training is not needed.\n",
      "24/12/04 09:54:24 WARN Instrumentation: [8ef9a189] All labels are the same value and fitIntercept=true, so the coefficients will be zeros. Training is not needed.\n",
      "24/12/04 09:54:25 WARN Instrumentation: [10010837] All labels are the same value and fitIntercept=true, so the coefficients will be zeros. Training is not needed.\n",
      "24/12/04 09:54:25 WARN Instrumentation: [61d31174] All labels are the same value and fitIntercept=true, so the coefficients will be zeros. Training is not needed.\n",
      "24/12/04 09:54:25 WARN Instrumentation: [24695336] All labels are the same value and fitIntercept=true, so the coefficients will be zeros. Training is not needed.\n",
      "24/12/04 09:54:26 WARN Instrumentation: [3e9cdc48] All labels are the same value and fitIntercept=true, so the coefficients will be zeros. Training is not needed.\n",
      "24/12/04 09:54:26 WARN Instrumentation: [ba9599db] All labels are the same value and fitIntercept=true, so the coefficients will be zeros. Training is not needed.\n",
      "24/12/04 09:54:26 WARN Instrumentation: [a68a2947] All labels are the same value and fitIntercept=true, so the coefficients will be zeros. Training is not needed.\n",
      "24/12/04 09:54:27 WARN Instrumentation: [139a1894] All labels are the same value and fitIntercept=true, so the coefficients will be zeros. Training is not needed.\n",
      "24/12/04 09:54:27 WARN Instrumentation: [309d6b4d] All labels are the same value and fitIntercept=true, so the coefficients will be zeros. Training is not needed.\n",
      "24/12/04 09:54:27 WARN Instrumentation: [630189ce] All labels are the same value and fitIntercept=true, so the coefficients will be zeros. Training is not needed.\n",
      "24/12/04 09:54:28 WARN Instrumentation: [fa335063] All labels are the same value and fitIntercept=true, so the coefficients will be zeros. Training is not needed.\n",
      "24/12/04 09:54:28 WARN Instrumentation: [b66e12b5] All labels are the same value and fitIntercept=true, so the coefficients will be zeros. Training is not needed.\n",
      "24/12/04 09:54:28 WARN Instrumentation: [5d83c284] All labels are the same value and fitIntercept=true, so the coefficients will be zeros. Training is not needed.\n",
      "24/12/04 09:54:29 WARN Instrumentation: [e7060112] All labels are the same value and fitIntercept=true, so the coefficients will be zeros. Training is not needed.\n",
      "24/12/04 09:54:29 WARN Instrumentation: [52b67c8d] All labels are the same value and fitIntercept=true, so the coefficients will be zeros. Training is not needed.\n",
      "24/12/04 09:54:29 WARN Instrumentation: [c6978525] All labels are the same value and fitIntercept=true, so the coefficients will be zeros. Training is not needed.\n",
      "24/12/04 09:54:29 WARN Instrumentation: [3515d637] All labels are the same value and fitIntercept=true, so the coefficients will be zeros. Training is not needed.\n",
      "24/12/04 09:54:30 WARN Instrumentation: [f654e9d9] All labels are the same value and fitIntercept=true, so the coefficients will be zeros. Training is not needed.\n",
      "24/12/04 09:54:30 WARN Instrumentation: [78e9308f] All labels are the same value and fitIntercept=true, so the coefficients will be zeros. Training is not needed.\n",
      "24/12/04 09:54:30 WARN Instrumentation: [112513aa] All labels are the same value and fitIntercept=true, so the coefficients will be zeros. Training is not needed.\n",
      "24/12/04 09:54:31 WARN Instrumentation: [6450af23] All labels are the same value and fitIntercept=true, so the coefficients will be zeros. Training is not needed.\n",
      "24/12/04 09:54:31 WARN Instrumentation: [0e31ba18] All labels are the same value and fitIntercept=true, so the coefficients will be zeros. Training is not needed.\n",
      "24/12/04 09:54:31 WARN Instrumentation: [7c3b53c4] All labels are the same value and fitIntercept=true, so the coefficients will be zeros. Training is not needed.\n",
      "24/12/04 09:54:31 WARN Instrumentation: [189d18ce] All labels are the same value and fitIntercept=true, so the coefficients will be zeros. Training is not needed.\n",
      "24/12/04 09:54:32 WARN Instrumentation: [c61fcf0c] All labels are the same value and fitIntercept=true, so the coefficients will be zeros. Training is not needed.\n",
      "24/12/04 09:54:32 WARN Instrumentation: [66b8a6c5] All labels are the same value and fitIntercept=true, so the coefficients will be zeros. Training is not needed.\n",
      "24/12/04 09:54:32 WARN Instrumentation: [01fe4062] All labels are the same value and fitIntercept=true, so the coefficients will be zeros. Training is not needed.\n",
      "24/12/04 09:54:32 WARN Instrumentation: [33738e35] All labels are the same value and fitIntercept=true, so the coefficients will be zeros. Training is not needed.\n",
      "24/12/04 09:54:33 WARN Instrumentation: [5c64fcb1] All labels are the same value and fitIntercept=true, so the coefficients will be zeros. Training is not needed.\n",
      "24/12/04 09:54:33 WARN Instrumentation: [ae1edc6b] All labels are the same value and fitIntercept=true, so the coefficients will be zeros. Training is not needed.\n",
      "24/12/04 09:54:33 WARN Instrumentation: [aba531ff] All labels are the same value and fitIntercept=true, so the coefficients will be zeros. Training is not needed.\n",
      "24/12/04 09:54:34 WARN Instrumentation: [e757b04f] All labels are the same value and fitIntercept=true, so the coefficients will be zeros. Training is not needed.\n",
      "24/12/04 09:54:34 WARN Instrumentation: [c8553ae5] All labels are the same value and fitIntercept=true, so the coefficients will be zeros. Training is not needed.\n",
      "24/12/04 09:54:34 WARN Instrumentation: [182b6f39] All labels are the same value and fitIntercept=true, so the coefficients will be zeros. Training is not needed.\n",
      "24/12/04 09:54:34 WARN Instrumentation: [1cabf470] All labels are the same value and fitIntercept=true, so the coefficients will be zeros. Training is not needed.\n",
      "24/12/04 09:54:35 WARN Instrumentation: [80aa049f] All labels are the same value and fitIntercept=true, so the coefficients will be zeros. Training is not needed.\n",
      "24/12/04 09:54:35 WARN Instrumentation: [410e5143] All labels are the same value and fitIntercept=true, so the coefficients will be zeros. Training is not needed.\n",
      "24/12/04 09:54:35 WARN Instrumentation: [87b0da70] All labels are the same value and fitIntercept=true, so the coefficients will be zeros. Training is not needed.\n",
      "24/12/04 09:54:36 WARN Instrumentation: [19cfce53] All labels are the same value and fitIntercept=true, so the coefficients will be zeros. Training is not needed.\n",
      "24/12/04 09:54:36 WARN Instrumentation: [5bc2533b] All labels are the same value and fitIntercept=true, so the coefficients will be zeros. Training is not needed.\n"
     ]
    },
    {
     "name": "stdout",
     "output_type": "stream",
     "text": [
      "Best Model Test AUC: 1.0\n"
     ]
    }
   ],
   "source": [
    "from pyspark.ml.tuning import ParamGridBuilder, CrossValidator\n",
    "\n",
    "# Buat grid parameter untuk diuji\n",
    "param_grid = (ParamGridBuilder()\n",
    "              .addGrid(lr.regParam, [0.01, 0.1, 0.5])       # Parameter regularisasi\n",
    "              .addGrid(lr.elasticNetParam, [0.0, 0.5, 1.0]) # Parameter elastic net\n",
    "              .build())\n",
    "\n",
    "# Buat CrossValidator dengan 5 fold\n",
    "cross_val = CrossValidator(estimator=lr,\n",
    "                           estimatorParamMaps=param_grid,\n",
    "                           evaluator=evaluator,\n",
    "                           numFolds=5)\n",
    "\n",
    "# Latih model dengan validasi silang\n",
    "cv_model = cross_val.fit(train_data)\n",
    "\n",
    "# Dapatkan model terbaik dari validasi silang\n",
    "best_model = cv_model.bestModel\n",
    "\n",
    "# Evaluasi model terbaik pada data pengujian\n",
    "best_predictions = best_model.transform(test_data)\n",
    "best_auc = evaluator.evaluate(best_predictions)\n",
    "print(f\"Best Model Test AUC: {best_auc}\")\n"
   ]
  }
 ],
 "metadata": {
  "kernelspec": {
   "display_name": "Python 3 (ipykernel)",
   "language": "python",
   "name": "python3"
  },
  "language_info": {
   "codemirror_mode": {
    "name": "ipython",
    "version": 3
   },
   "file_extension": ".py",
   "mimetype": "text/x-python",
   "name": "python",
   "nbconvert_exporter": "python",
   "pygments_lexer": "ipython3",
   "version": "3.12.1"
  }
 },
 "nbformat": 4,
 "nbformat_minor": 2
}
