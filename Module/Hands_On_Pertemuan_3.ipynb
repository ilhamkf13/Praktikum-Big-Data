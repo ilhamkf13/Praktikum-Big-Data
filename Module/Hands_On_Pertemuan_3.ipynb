{
 "cells": [
  {
   "cell_type": "markdown",
   "id": "c1b3626a",
   "metadata": {},
   "source": [
    "# Hands-On Pertemuan 3: Implementasi MapReduce Sederhana"
   ]
  },
  {
   "cell_type": "markdown",
   "id": "8c4b8be5",
   "metadata": {},
   "source": [
    "## Tujuan:\n",
    "- Memahami konsep MapReduce dalam distribusi data besar.\n",
    "- Mengimplementasikan algoritma sederhana menggunakan MapReduce pada Hadoop.\n",
    "- Melakukan analisis hasil MapReduce pada dataset."
   ]
  },
  {
   "cell_type": "markdown",
   "id": "090da41e",
   "metadata": {},
   "source": [
    "### 1. Pengenalan MapReduce\n",
    "MapReduce adalah model pemrograman yang digunakan untuk pemrosesan data besar secara paralel di beberapa node dalam kluster Hadoop.\n",
    "- **Map**: Fase pertama di mana data dipecah menjadi unit-unit kecil (key-value pairs).\n",
    "- **Reduce**: Fase kedua di mana hasil dari fase Map dikombinasikan untuk menghasilkan output yang lebih kecil.\n",
    "\n",
    "- **Tugas 1**: Pelajari bagaimana MapReduce bekerja dengan dataset sederhana dan coba implementasikan konsep key-value pair."
   ]
  },
  {
   "cell_type": "markdown",
   "id": "7190ed74",
   "metadata": {},
   "source": [
    "### 2. Implementasi Sederhana: Word Count\n",
    "Algoritma Word Count adalah salah satu contoh sederhana dari MapReduce. Dalam tugas ini, kita akan menghitung jumlah kata dalam dataset.\n",
    "\n",
    "1. **Map Function**: Fungsi yang memecah teks menjadi kata-kata individual.\n",
    "   ```python\n",
    "   def map_function(text):\n",
    "       for word in text.split():\n",
    "           yield (word, 1)\n",
    "   ```\n",
    "2. **Reduce Function**: Fungsi yang menggabungkan hasil dari fase Map untuk menghitung frekuensi kata.\n",
    "   ```python\n",
    "   from collections import defaultdict\n",
    "\n",
    "   def reduce_function(pairs):\n",
    "       result = defaultdict(int)\n",
    "       for word, count in pairs:\n",
    "           result[word] += count\n",
    "       return result\n",
    "   ```\n",
    "- **Tugas 2**: Implementasikan fungsi `map_function` dan `reduce_function` pada dataset teks sederhana, lalu hitung jumlah kata."
   ]
  },
  {
   "cell_type": "markdown",
   "id": "5d79ab57",
   "metadata": {},
   "source": [
    "### 3. Menjalankan Word Count di Hadoop\n",
    "1. Siapkan file teks yang ingin dihitung jumlah katanya.\n",
    "   ```bash\n",
    "   hdfs dfs -put input.txt /user/student/input/\n",
    "   ```\n",
    "2. Jalankan perintah MapReduce pada file tersebut:\n",
    "   ```bash\n",
    "   hadoop jar $HADOOP_HOME/share/hadoop/mapreduce/hadoop-mapreduce-examples-*.jar wordcount /user/student/input/ /user/student/output/\n",
    "   ```\n",
    "3. Tampilkan hasilnya:\n",
    "   ```bash\n",
    "   hdfs dfs -cat /user/student/output/part-r-00000\n",
    "   ```\n",
    "- **Tugas 3**: Upload file teks ke HDFS, jalankan perintah MapReduce Word Count, dan tampilkan hasilnya."
   ]
  },
  {
   "cell_type": "markdown",
   "id": "24a3bcdf",
   "metadata": {},
   "source": [
    "### 4. Menganalisis Dataset Besar\n",
    "Untuk memperdalam pemahaman, kita akan menjalankan algoritma MapReduce pada dataset yang lebih besar.\n",
    "- Pilih dataset besar yang dapat diunduh dari [Kaggle](https://www.kaggle.com/) atau sumber lain.\n",
    "- Jalankan Word Count pada dataset besar tersebut dan analisis hasilnya.\n",
    "\n",
    "- **Tugas 4**: Cari dataset besar, jalankan MapReduce untuk menghitung kata, dan buat laporan analisis hasil."
   ]
  },
  {
   "cell_type": "markdown",
   "id": "85612e13",
   "metadata": {},
   "source": [
    "### 5. Tugas Tambahan: Custom MapReduce Algorithm\n",
    "- Buat algoritma MapReduce lainnya, seperti menghitung rata-rata nilai, atau menghitung frekuensi kemunculan elemen tertentu di dalam dataset."
   ]
  }
 ],
 "metadata": {},
 "nbformat": 4,
 "nbformat_minor": 5
}
